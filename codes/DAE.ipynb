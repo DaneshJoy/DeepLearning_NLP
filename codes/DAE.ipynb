{
  "nbformat": 4,
  "nbformat_minor": 0,
  "metadata": {
    "colab": {
      "name": "DAE.ipynb",
      "provenance": []
    },
    "kernelspec": {
      "name": "python3",
      "display_name": "Python 3"
    },
    "language_info": {
      "name": "python"
    },
    "accelerator": "GPU"
  },
  "cells": [
    {
      "cell_type": "code",
      "execution_count": 1,
      "metadata": {
        "id": "OeXVyoreg2-a"
      },
      "outputs": [],
      "source": [
        "import numpy as np\n",
        "import matplotlib.pyplot as plt\n",
        "from tensorflow.keras import datasets\n",
        "from tensorflow.keras import layers\n",
        "from tensorflow.keras.models import Model"
      ]
    },
    {
      "cell_type": "markdown",
      "source": [
        "## Load Data"
      ],
      "metadata": {
        "id": "tm8CidGZitZF"
      }
    },
    {
      "cell_type": "code",
      "source": [
        "(X_train, _), (X_test, _) = datasets.mnist.load_data()\n",
        "\n",
        "print(X_train.shape)\n",
        "print(X_test.shape)"
      ],
      "metadata": {
        "colab": {
          "base_uri": "https://localhost:8080/"
        },
        "id": "D7yydR9Wh5Zu",
        "outputId": "abe280b9-816d-4659-9285-20bf9919966a"
      },
      "execution_count": 2,
      "outputs": [
        {
          "output_type": "stream",
          "name": "stdout",
          "text": [
            "Downloading data from https://storage.googleapis.com/tensorflow/tf-keras-datasets/mnist.npz\n",
            "11493376/11490434 [==============================] - 0s 0us/step\n",
            "11501568/11490434 [==============================] - 0s 0us/step\n",
            "(60000, 28, 28)\n",
            "(10000, 28, 28)\n"
          ]
        }
      ]
    },
    {
      "cell_type": "markdown",
      "source": [
        "## Preprocess Data"
      ],
      "metadata": {
        "id": "9wWT4-KJiwUo"
      }
    },
    {
      "cell_type": "code",
      "source": [
        "# Normalization\n",
        "X_train2 = X_train.astype('float32') / 255.\n",
        "X_test2 = X_test.astype('float32') / 255.\n",
        "\n",
        "# Adding Noise\n",
        "noise_train = 0.4 * np.random.normal(loc=0.0, scale=0.7, size=X_train.shape)\n",
        "noise_test = 0.4 * np.random.normal(loc=0.0, scale=0.7, size=X_test.shape)\n",
        "\n",
        "X_train_noisy = X_train2 + noise_train\n",
        "X_test_noisy = X_test2 + noise_test\n",
        "\n",
        "X_train_noisy = np.clip(X_train_noisy, 0., 1.)\n",
        "X_test_noisy = np.clip(X_test_noisy, 0., 1.)\n",
        "\n",
        "fig, axes = plt.subplots(1, 5, figsize=(10,2))\n",
        "for i, ax in enumerate(axes.flat):\n",
        "    ax.imshow(X_train_noisy[i], cmap='gray')\n",
        "plt.show()"
      ],
      "metadata": {
        "colab": {
          "base_uri": "https://localhost:8080/",
          "height": 146
        },
        "id": "hDS5nEJmisGJ",
        "outputId": "9a85d4c0-aeb7-4135-b077-869ff89d8097"
      },
      "execution_count": 3,
      "outputs": [
        {
          "output_type": "display_data",
          "data": {
            "image/png": "[encoded data removed]",
            "text/plain": [
              "<Figure size 720x144 with 5 Axes>"
            ]
          },
          "metadata": {
            "needs_background": "light"
          }
        }
      ]
    },
    {
      "cell_type": "code",
      "source": [
        "X_train_vector = X_train2.reshape(len(X_train), 784)\n",
        "X_test_vector = X_test2.reshape(len(X_test), 784)\n",
        "\n",
        "X_train_vector_noisy = X_train_noisy.reshape(len(X_train), 784)\n",
        "X_test_vector_noisy = X_test_noisy.reshape(len(X_test), 784)\n",
        "\n",
        "print(X_train_vector.shape)"
      ],
      "metadata": {
        "colab": {
          "base_uri": "https://localhost:8080/"
        },
        "id": "nytWQNlds4Xo",
        "outputId": "1d4f5e65-2de7-4d5c-fec7-6113afa462f7"
      },
      "execution_count": 4,
      "outputs": [
        {
          "output_type": "stream",
          "name": "stdout",
          "text": [
            "(60000, 784)\n"
          ]
        }
      ]
    },
    {
      "cell_type": "markdown",
      "source": [
        "## Model Design"
      ],
      "metadata": {
        "id": "0Ah2KZvcmI1P"
      }
    },
    {
      "cell_type": "code",
      "source": [
        "input_layer = layers.Input(shape=(784,))\n",
        "encoder_layer = layers.Dense(16, activation='relu')(input_layer)\n",
        "decoder_layer = layers.Dense(784, activation='sigmoid')(encoder_layer)\n",
        "\n",
        "autoencoder = Model(input_layer, decoder_layer)\n",
        "autoencoder.summary()"
      ],
      "metadata": {
        "colab": {
          "base_uri": "https://localhost:8080/"
        },
        "id": "A3_RFFOZmG6r",
        "outputId": "4d4e15c3-711c-4777-8d20-5177bc6c99b0"
      },
      "execution_count": 5,
      "outputs": [
        {
          "output_type": "stream",
          "name": "stdout",
          "text": [
            "Model: \"model\"\n",
            "_________________________________________________________________\n",
            " Layer (type)                Output Shape              Param #   \n",
            "=================================================================\n",
            " input_1 (InputLayer)        [(None, 784)]             0         \n",
            "                                                                 \n",
            " dense (Dense)               (None, 16)                12560     \n",
            "                                                                 \n",
            " dense_1 (Dense)             (None, 784)               13328     \n",
            "                                                                 \n",
            "=================================================================\n",
            "Total params: 25,888\n",
            "Trainable params: 25,888\n",
            "Non-trainable params: 0\n",
            "_________________________________________________________________\n"
          ]
        }
      ]
    },
    {
      "cell_type": "markdown",
      "source": [
        "## Training"
      ],
      "metadata": {
        "id": "otz5hkODub6q"
      }
    },
    {
      "cell_type": "code",
      "source": [
        "autoencoder.compile(optimizer='adam', loss='binary_crossentropy')\n",
        "autoencoder.fit(X_train_vector_noisy, X_train_vector,\n",
        "                epochs=30,\n",
        "                batch_size=256)"
      ],
      "metadata": {
        "colab": {
          "base_uri": "https://localhost:8080/"
        },
        "id": "lkdwTpjSuZ4g",
        "outputId": "ccfe8649-aadd-45b5-ea69-fad6c4f443b3"
      },
      "execution_count": 6,
      "outputs": [
        {
          "output_type": "stream",
          "name": "stdout",
          "text": [
            "Epoch 1/30\n",
            "235/235 [==============================] - 5s 7ms/step - loss: 0.3029\n",
            "Epoch 2/30\n",
            "235/235 [==============================] - 2s 7ms/step - loss: 0.2040\n",
            "Epoch 3/30\n",
            "235/235 [==============================] - 2s 7ms/step - loss: 0.1771\n",
            "Epoch 4/30\n",
            "235/235 [==============================] - 2s 7ms/step - loss: 0.1632\n",
            "Epoch 5/30\n",
            "235/235 [==============================] - 1s 4ms/step - loss: 0.1527\n",
            "Epoch 6/30\n",
            "235/235 [==============================] - 1s 4ms/step - loss: 0.1454\n",
            "Epoch 7/30\n",
            "235/235 [==============================] - 1s 4ms/step - loss: 0.1418\n",
            "Epoch 8/30\n",
            "235/235 [==============================] - 1s 6ms/step - loss: 0.1402\n",
            "Epoch 9/30\n",
            "235/235 [==============================] - 2s 8ms/step - loss: 0.1393\n",
            "Epoch 10/30\n",
            "235/235 [==============================] - 2s 9ms/step - loss: 0.1387\n",
            "Epoch 11/30\n",
            "235/235 [==============================] - 2s 9ms/step - loss: 0.1384\n",
            "Epoch 12/30\n",
            "235/235 [==============================] - 2s 8ms/step - loss: 0.1380\n",
            "Epoch 13/30\n",
            "235/235 [==============================] - 2s 8ms/step - loss: 0.1378\n",
            "Epoch 14/30\n",
            "235/235 [==============================] - 2s 7ms/step - loss: 0.1376\n",
            "Epoch 15/30\n",
            "235/235 [==============================] - 2s 9ms/step - loss: 0.1374\n",
            "Epoch 16/30\n",
            "235/235 [==============================] - 2s 8ms/step - loss: 0.1372\n",
            "Epoch 17/30\n",
            "235/235 [==============================] - 2s 8ms/step - loss: 0.1371\n",
            "Epoch 18/30\n",
            "235/235 [==============================] - 2s 8ms/step - loss: 0.1370\n",
            "Epoch 19/30\n",
            "235/235 [==============================] - 2s 8ms/step - loss: 0.1369\n",
            "Epoch 20/30\n",
            "235/235 [==============================] - 2s 8ms/step - loss: 0.1368\n",
            "Epoch 21/30\n",
            "235/235 [==============================] - 2s 7ms/step - loss: 0.1367\n",
            "Epoch 22/30\n",
            "235/235 [==============================] - 2s 8ms/step - loss: 0.1365\n",
            "Epoch 23/30\n",
            "235/235 [==============================] - 1s 6ms/step - loss: 0.1365\n",
            "Epoch 24/30\n",
            "235/235 [==============================] - 2s 7ms/step - loss: 0.1363\n",
            "Epoch 25/30\n",
            "235/235 [==============================] - 2s 7ms/step - loss: 0.1363\n",
            "Epoch 26/30\n",
            "235/235 [==============================] - 2s 7ms/step - loss: 0.1362\n",
            "Epoch 27/30\n",
            "235/235 [==============================] - 2s 7ms/step - loss: 0.1361\n",
            "Epoch 28/30\n",
            "235/235 [==============================] - 2s 7ms/step - loss: 0.1360\n",
            "Epoch 29/30\n",
            "235/235 [==============================] - 1s 6ms/step - loss: 0.1359\n",
            "Epoch 30/30\n",
            "235/235 [==============================] - 1s 6ms/step - loss: 0.1358\n"
          ]
        },
        {
          "output_type": "execute_result",
          "data": {
            "text/plain": [
              "<keras.callbacks.History at 0x7f4cd045ac50>"
            ]
          },
          "metadata": {},
          "execution_count": 6
        }
      ]
    },
    {
      "cell_type": "markdown",
      "source": [
        "## Evaluation"
      ],
      "metadata": {
        "id": "LOVU74eMvY4_"
      }
    },
    {
      "cell_type": "code",
      "source": [
        "# Decoder output\n",
        "pred = autoencoder.predict(X_test_vector)\n",
        "\n",
        "# Encoder output\n",
        "encoder_model = Model(input_layer, encoder_layer)\n",
        "encoder_model.summary()\n",
        "encoded_data = encoder_model.predict(X_test_vector_noisy)"
      ],
      "metadata": {
        "colab": {
          "base_uri": "https://localhost:8080/"
        },
        "id": "4WQsNAx1vX32",
        "outputId": "440d2ceb-b903-4f7f-a105-8ea4542cb81d"
      },
      "execution_count": 7,
      "outputs": [
        {
          "output_type": "stream",
          "name": "stdout",
          "text": [
            "Model: \"model_1\"\n",
            "_________________________________________________________________\n",
            " Layer (type)                Output Shape              Param #   \n",
            "=================================================================\n",
            " input_1 (InputLayer)        [(None, 784)]             0         \n",
            "                                                                 \n",
            " dense (Dense)               (None, 16)                12560     \n",
            "                                                                 \n",
            "=================================================================\n",
            "Total params: 12,560\n",
            "Trainable params: 12,560\n",
            "Non-trainable params: 0\n",
            "_________________________________________________________________\n"
          ]
        }
      ]
    },
    {
      "cell_type": "code",
      "source": [
        "fig, axes = plt.subplots(1, 10, figsize=(20, 2))\n",
        "for i, ax in enumerate(axes):\n",
        "    ax.imshow(X_test_vector_noisy[i].reshape(28, 28), cmap='gray')\n",
        "    ax.set_axis_off()\n",
        "\n",
        "fig, axes = plt.subplots(1, 10, figsize=(20, 2))\n",
        "for i, ax in enumerate(axes):\n",
        "    ax.imshow(encoded_data[i].reshape(2, 8), cmap='gray')\n",
        "    ax.set_axis_off()\n",
        "\n",
        "fig, axes = plt.subplots(1, 10, figsize=(20, 2))\n",
        "for i, ax in enumerate(axes):\n",
        "    ax.imshow(pred[i].reshape(28, 28), cmap='gray')\n",
        "    ax.set_axis_off()\n",
        "\n",
        "plt.show()"
      ],
      "metadata": {
        "colab": {
          "base_uri": "https://localhost:8080/",
          "height": 236
        },
        "id": "zE5fVqrdwUIR",
        "outputId": "90cd07f4-a884-4387-c6fc-cf7334fb6b88"
      },
      "execution_count": 8,
      "outputs": [
        {
          "output_type": "display_data",
          "data": {
            "image/png": "[encoded data removed]",
            "text/plain": [
              "<Figure size 1440x144 with 10 Axes>"
            ]
          },
          "metadata": {
            "needs_background": "light"
          }
        },
        {
          "output_type": "display_data",
          "data": {
            "image/png": "[encoded data removed]",
            "text/plain": [
              "<Figure size 1440x144 with 10 Axes>"
            ]
          },
          "metadata": {
            "needs_background": "light"
          }
        },
        {
          "output_type": "display_data",
          "data": {
            "image/png": "[encoded data removed]",
            "text/plain": [
              "<Figure size 1440x144 with 10 Axes>"
            ]
          },
          "metadata": {
            "needs_background": "light"
          }
        }
      ]
    }
  ]
}