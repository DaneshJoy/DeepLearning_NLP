{
  "nbformat": 4,
  "nbformat_minor": 0,
  "metadata": {
    "colab": {
      "name": "MNIST_FC_Callbacks_Save_Load.ipynb",
      "provenance": [],
      "collapsed_sections": []
    },
    "kernelspec": {
      "name": "python3",
      "display_name": "Python 3"
    },
    "accelerator": "GPU"
  },
  "cells": [
    {
      "cell_type": "markdown",
      "metadata": {
        "id": "LIU8lGHLmkNJ"
      },
      "source": [
        "## MNIST Classification Using **Dense** Layers"
      ]
    },
    {
      "cell_type": "code",
      "metadata": {
        "id": "aLDMq92OcHxY"
      },
      "source": [
        "import tensorflow as tf\n",
        "from tensorflow.keras import datasets, utils, models, layers, optimizers, losses\n",
        "import numpy as np\n",
        "import matplotlib.pyplot as plt"
      ],
      "execution_count": 1,
      "outputs": []
    },
    {
      "cell_type": "markdown",
      "metadata": {
        "id": "l4VD8FAZ7Osp"
      },
      "source": [
        "Data Preparation"
      ]
    },
    {
      "cell_type": "code",
      "metadata": {
        "id": "gs2eaglMcazi",
        "colab": {
          "base_uri": "https://localhost:8080/"
        },
        "outputId": "817e4424-4169-4f84-f561-47a5d6efe475"
      },
      "source": [
        "(train_images, train_labels), (test_images, test_labels) = datasets.mnist.load_data()\n",
        "print(\"train_images dimentions: \", train_images.ndim)\n",
        "print(\"train_images shape: \", train_images.shape)"
      ],
      "execution_count": 2,
      "outputs": [
        {
          "output_type": "stream",
          "name": "stdout",
          "text": [
            "Downloading data from https://storage.googleapis.com/tensorflow/tf-keras-datasets/mnist.npz\n",
            "11493376/11490434 [==============================] - 0s 0us/step\n",
            "11501568/11490434 [==============================] - 0s 0us/step\n",
            "train_images dimentions:  3\n",
            "train_images shape:  (60000, 28, 28)\n"
          ]
        }
      ]
    },
    {
      "cell_type": "code",
      "metadata": {
        "id": "U37bpPHKc7kW",
        "colab": {
          "base_uri": "https://localhost:8080/"
        },
        "outputId": "22313340-e15c-4952-f181-748013d92453"
      },
      "source": [
        "# Preprocessing\n",
        "\n",
        "X_train = train_images.reshape(60000, 784)\n",
        "X_test = test_images.reshape(10000, 784)\n",
        "\n",
        "# Normalizing (0-1)\n",
        "X_train = X_train.astype('float32') / 255\n",
        "X_test =  X_test.astype('float32') / 255\n",
        "\n",
        "Y_train = utils.to_categorical(train_labels)\n",
        "Y_test = utils.to_categorical(test_labels)\n",
        "\n",
        "print(train_labels[0])\n",
        "print(Y_train[0])"
      ],
      "execution_count": 3,
      "outputs": [
        {
          "output_type": "stream",
          "name": "stdout",
          "text": [
            "5\n",
            "[0. 0. 0. 0. 0. 1. 0. 0. 0. 0.]\n"
          ]
        }
      ]
    },
    {
      "cell_type": "code",
      "metadata": {
        "id": "UpWohgkbljH5",
        "colab": {
          "base_uri": "https://localhost:8080/",
          "height": 105
        },
        "outputId": "42106908-8062-4eed-877b-9f150aafc80d"
      },
      "source": [
        "for i in range(5):\n",
        "    plt.subplot(1,5,i+1)\n",
        "    plt.imshow(train_images[i], cmap='gray')\n",
        "    plt.title(train_labels[i])\n",
        "    plt.axis('off')"
      ],
      "execution_count": 4,
      "outputs": [
        {
          "output_type": "display_data",
          "data": {
            "image/png": "[encoded data removed]",
            "text/plain": [
              "<Figure size 432x288 with 5 Axes>"
            ]
          },
          "metadata": {
            "needs_background": "light"
          }
        }
      ]
    },
    {
      "cell_type": "markdown",
      "metadata": {
        "id": "oWbVem7Q80Qv"
      },
      "source": [
        "Model Creation"
      ]
    },
    {
      "cell_type": "code",
      "metadata": {
        "id": "kA4cVm0UeR9i",
        "colab": {
          "base_uri": "https://localhost:8080/"
        },
        "outputId": "8a0e765c-ddfa-4010-9d36-ae66f613c237"
      },
      "source": [
        "myModel = models.Sequential()\n",
        "myModel.add(layers.Dense(500, activation='relu', input_shape=(784,)))\n",
        "myModel.add(layers.Dropout(0.2))\n",
        "myModel.add(layers.Dense(100, activation='relu'))\n",
        "myModel.add(layers.Dropout(0.2))\n",
        "myModel.add(layers.Dense(10, activation='softmax'))\n",
        "\n",
        "myModel.summary()\n",
        "myModel.compile(optimizer=optimizers.SGD(lr=0.001), loss=losses.categorical_crossentropy)"
      ],
      "execution_count": 5,
      "outputs": [
        {
          "output_type": "stream",
          "name": "stdout",
          "text": [
            "Model: \"sequential\"\n",
            "_________________________________________________________________\n",
            " Layer (type)                Output Shape              Param #   \n",
            "=================================================================\n",
            " dense (Dense)               (None, 500)               392500    \n",
            "                                                                 \n",
            " dropout (Dropout)           (None, 500)               0         \n",
            "                                                                 \n",
            " dense_1 (Dense)             (None, 100)               50100     \n",
            "                                                                 \n",
            " dropout_1 (Dropout)         (None, 100)               0         \n",
            "                                                                 \n",
            " dense_2 (Dense)             (None, 10)                1010      \n",
            "                                                                 \n",
            "=================================================================\n",
            "Total params: 443,610\n",
            "Trainable params: 443,610\n",
            "Non-trainable params: 0\n",
            "_________________________________________________________________\n"
          ]
        },
        {
          "output_type": "stream",
          "name": "stderr",
          "text": [
            "/usr/local/lib/python3.7/dist-packages/keras/optimizer_v2/gradient_descent.py:102: UserWarning: The `lr` argument is deprecated, use `learning_rate` instead.\n",
            "  super(SGD, self).__init__(name, **kwargs)\n"
          ]
        }
      ]
    },
    {
      "cell_type": "markdown",
      "metadata": {
        "id": "YzZmNoQA9bw6"
      },
      "source": [
        "Training"
      ]
    },
    {
      "cell_type": "code",
      "metadata": {
        "id": "skjpY0-vekHX",
        "colab": {
          "base_uri": "https://localhost:8080/"
        },
        "outputId": "c5b13a23-708a-461a-d91c-f6c999f50a28"
      },
      "source": [
        "# Callbacks\n",
        "from tensorflow.keras.callbacks import CSVLogger\n",
        "from tensorflow.keras.callbacks import ModelCheckpoint\n",
        "\n",
        "logger = CSVLogger('log.txt')\n",
        "checkpoint = ModelCheckpoint('model_chk.h5', save_best_only=True)\n",
        "\n",
        "callbacks_list = [logger, checkpoint]\n",
        "\n",
        "# Train our model\n",
        "history = myModel.fit(X_train, Y_train, batch_size=128,\n",
        "                      epochs=20, validation_split=0.2,\n",
        "                      callbacks = callbacks_list)"
      ],
      "execution_count": 17,
      "outputs": [
        {
          "output_type": "stream",
          "name": "stdout",
          "text": [
            "Epoch 1/20\n",
            "375/375 [==============================] - 3s 9ms/step - loss: 0.5550 - val_loss: 0.4133\n",
            "Epoch 2/20\n",
            "375/375 [==============================] - 2s 7ms/step - loss: 0.5451 - val_loss: 0.4042\n",
            "Epoch 3/20\n",
            "375/375 [==============================] - 3s 7ms/step - loss: 0.5352 - val_loss: 0.3959\n",
            "Epoch 4/20\n",
            "375/375 [==============================] - 3s 7ms/step - loss: 0.5251 - val_loss: 0.3882\n",
            "Epoch 5/20\n",
            "375/375 [==============================] - 2s 5ms/step - loss: 0.5128 - val_loss: 0.3812\n",
            "Epoch 6/20\n",
            "375/375 [==============================] - 2s 6ms/step - loss: 0.5052 - val_loss: 0.3748\n",
            "Epoch 7/20\n",
            "375/375 [==============================] - 2s 5ms/step - loss: 0.4955 - val_loss: 0.3686\n",
            "Epoch 8/20\n",
            "375/375 [==============================] - 2s 5ms/step - loss: 0.4890 - val_loss: 0.3631\n",
            "Epoch 9/20\n",
            "375/375 [==============================] - 2s 5ms/step - loss: 0.4821 - val_loss: 0.3576\n",
            "Epoch 10/20\n",
            "375/375 [==============================] - 2s 5ms/step - loss: 0.4738 - val_loss: 0.3528\n",
            "Epoch 11/20\n",
            "375/375 [==============================] - 2s 5ms/step - loss: 0.4661 - val_loss: 0.3483\n",
            "Epoch 12/20\n",
            "375/375 [==============================] - 2s 5ms/step - loss: 0.4605 - val_loss: 0.3440\n",
            "Epoch 13/20\n",
            "375/375 [==============================] - 2s 5ms/step - loss: 0.4565 - val_loss: 0.3394\n",
            "Epoch 14/20\n",
            "375/375 [==============================] - 2s 5ms/step - loss: 0.4535 - val_loss: 0.3357\n",
            "Epoch 15/20\n",
            "375/375 [==============================] - 2s 5ms/step - loss: 0.4464 - val_loss: 0.3320\n",
            "Epoch 16/20\n",
            "375/375 [==============================] - 2s 5ms/step - loss: 0.4410 - val_loss: 0.3282\n",
            "Epoch 17/20\n",
            "375/375 [==============================] - 2s 5ms/step - loss: 0.4373 - val_loss: 0.3248\n",
            "Epoch 18/20\n",
            "375/375 [==============================] - 2s 5ms/step - loss: 0.4327 - val_loss: 0.3216\n",
            "Epoch 19/20\n",
            "375/375 [==============================] - 2s 5ms/step - loss: 0.4275 - val_loss: 0.3185\n",
            "Epoch 20/20\n",
            "375/375 [==============================] - 2s 5ms/step - loss: 0.4202 - val_loss: 0.3155\n"
          ]
        }
      ]
    },
    {
      "cell_type": "markdown",
      "source": [
        "## Save Model"
      ],
      "metadata": {
        "id": "L_Mg1gf1gZvz"
      }
    },
    {
      "cell_type": "code",
      "source": [
        "myModel.save(\"my_model.h5\")"
      ],
      "metadata": {
        "id": "rWQLSbPCgZVl"
      },
      "execution_count": 7,
      "outputs": []
    },
    {
      "cell_type": "code",
      "metadata": {
        "id": "RbEP_FlBfEAn",
        "colab": {
          "base_uri": "https://localhost:8080/",
          "height": 296
        },
        "outputId": "bd3c1d40-3c1d-4a67-f3bd-1f4b7de05578"
      },
      "source": [
        "losses = history.history['loss']\n",
        "val_losses = history.history['val_loss']\n",
        "\n",
        "plt.plot(losses)\n",
        "plt.plot(val_losses)\n",
        "plt.xlabel('Epochs')\n",
        "plt.ylabel('Loss')\n",
        "plt.legend(['loss', 'val_loss'])"
      ],
      "execution_count": null,
      "outputs": [
        {
          "output_type": "execute_result",
          "data": {
            "text/plain": [
              "<matplotlib.legend.Legend at 0x7fe7c0026b38>"
            ]
          },
          "metadata": {
            "tags": []
          },
          "execution_count": 8
        },
        {
          "output_type": "display_data",
          "data": {
            "image/png": "[encoded data removed]",
            "text/plain": [
              "<Figure size 432x288 with 1 Axes>"
            ]
          },
          "metadata": {
            "tags": [],
            "needs_background": "light"
          }
        }
      ]
    },
    {
      "cell_type": "markdown",
      "source": [
        "## Load Model"
      ],
      "metadata": {
        "id": "hEHMZr5YhDeN"
      }
    },
    {
      "cell_type": "code",
      "source": [
        "from keras.models import load_model\n",
        "\n",
        "loaded_model = load_model('model_chk.h5')\n",
        "\n",
        "loaded_model.summary()"
      ],
      "metadata": {
        "colab": {
          "base_uri": "https://localhost:8080/"
        },
        "id": "sy3aU_EghC8f",
        "outputId": "402f8958-32d8-461d-9f22-965efb48f691"
      },
      "execution_count": 18,
      "outputs": [
        {
          "output_type": "stream",
          "name": "stdout",
          "text": [
            "Model: \"sequential\"\n",
            "_________________________________________________________________\n",
            " Layer (type)                Output Shape              Param #   \n",
            "=================================================================\n",
            " dense (Dense)               (None, 500)               392500    \n",
            "                                                                 \n",
            " dropout (Dropout)           (None, 500)               0         \n",
            "                                                                 \n",
            " dense_1 (Dense)             (None, 100)               50100     \n",
            "                                                                 \n",
            " dropout_1 (Dropout)         (None, 100)               0         \n",
            "                                                                 \n",
            " dense_2 (Dense)             (None, 10)                1010      \n",
            "                                                                 \n",
            "=================================================================\n",
            "Total params: 443,610\n",
            "Trainable params: 443,610\n",
            "Non-trainable params: 0\n",
            "_________________________________________________________________\n"
          ]
        }
      ]
    },
    {
      "cell_type": "code",
      "source": [
        "from tensorflow.keras.utils import plot_model\n",
        "\n",
        "plot_model(loaded_model, to_file='my_model.pdf', show_shapes=True)"
      ],
      "metadata": {
        "id": "SWCVKTXZiSN7"
      },
      "execution_count": 19,
      "outputs": []
    },
    {
      "cell_type": "code",
      "metadata": {
        "id": "EULC1rhMevKi",
        "colab": {
          "base_uri": "https://localhost:8080/"
        },
        "outputId": "8a694260-3596-45cc-b5cd-ade99791d35f"
      },
      "source": [
        "# Evaluation\n",
        "test_loss = loaded_model.evaluate(X_test, Y_test)\n",
        "print(\"test loss: \", test_loss)\n",
        "\n",
        "test_labels_p = loaded_model.predict(X_test)\n",
        "test_labels_p = np.argmax(test_labels_p, axis=1)\n",
        "print(\"True labels: \", test_labels[0:10])\n",
        "print(\"Pred labels: \", test_labels_p[0:10])"
      ],
      "execution_count": 20,
      "outputs": [
        {
          "output_type": "stream",
          "name": "stdout",
          "text": [
            "313/313 [==============================] - 1s 3ms/step - loss: 0.3199\n",
            "test loss:  0.31985926628112793\n",
            "True labels:  [7 2 1 0 4 1 4 9 5 9]\n",
            "Pred labels:  [7 2 1 0 4 1 4 9 6 9]\n"
          ]
        }
      ]
    }
  ]
}